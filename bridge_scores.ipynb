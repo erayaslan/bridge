{
 "cells": [
  {
   "cell_type": "markdown",
   "id": "94266b27-c7ff-4977-b587-ee53b0df8706",
   "metadata": {},
   "source": [
    "# Bridge Scoring\n",
    "\n",
    "We are a bunch of 9 friends who come together Tuesday nights to hang around, have a bit of fun and play bridge.  Lately, we have started to keep score on the matches we played.  This notebook is mostly for fun and also to determine who will pay for the dinner next time we go out.\n",
    "\n",
    "The scores are kept in the scores.csv file and is updated after each game."
   ]
  },
  {
   "cell_type": "code",
   "execution_count": 1,
   "id": "74ba58c6-f3a5-4fdc-934b-af55c0df72fb",
   "metadata": {},
   "outputs": [],
   "source": [
    "import pandas as pd\n",
    "import numpy as np"
   ]
  },
  {
   "cell_type": "code",
   "execution_count": 2,
   "id": "4bb15909-b415-4a4c-880d-db9cebbb2748",
   "metadata": {},
   "outputs": [],
   "source": [
    "raw_scores = pd.read_csv('scores.csv', parse_dates=[0], infer_datetime_format=True)"
   ]
  },
  {
   "cell_type": "code",
   "execution_count": 3,
   "id": "40a2b87d-4579-4692-829d-eb436f25c047",
   "metadata": {},
   "outputs": [
    {
     "data": {
      "text/html": [
       "<div>\n",
       "<style scoped>\n",
       "    .dataframe tbody tr th:only-of-type {\n",
       "        vertical-align: middle;\n",
       "    }\n",
       "\n",
       "    .dataframe tbody tr th {\n",
       "        vertical-align: top;\n",
       "    }\n",
       "\n",
       "    .dataframe thead th {\n",
       "        text-align: right;\n",
       "    }\n",
       "</style>\n",
       "<table border=\"1\" class=\"dataframe\">\n",
       "  <thead>\n",
       "    <tr style=\"text-align: right;\">\n",
       "      <th></th>\n",
       "      <th>date</th>\n",
       "      <th>team1</th>\n",
       "      <th>team2</th>\n",
       "      <th>score1</th>\n",
       "      <th>score2</th>\n",
       "    </tr>\n",
       "  </thead>\n",
       "  <tbody>\n",
       "    <tr>\n",
       "      <th>0</th>\n",
       "      <td>2022-02-01</td>\n",
       "      <td>murat-eray-cuneyt-izzet</td>\n",
       "      <td>serhan-muzo-erol-alper</td>\n",
       "      <td>12</td>\n",
       "      <td>38</td>\n",
       "    </tr>\n",
       "    <tr>\n",
       "      <th>1</th>\n",
       "      <td>2022-02-01</td>\n",
       "      <td>eray-muzo-alper-murat</td>\n",
       "      <td>erol-izzet-serhan-cuneyt</td>\n",
       "      <td>9</td>\n",
       "      <td>5</td>\n",
       "    </tr>\n",
       "    <tr>\n",
       "      <th>2</th>\n",
       "      <td>2022-01-25</td>\n",
       "      <td>eray-serhan-cuneyt-muzo</td>\n",
       "      <td>izzet-erol-kazim-alper</td>\n",
       "      <td>15</td>\n",
       "      <td>14</td>\n",
       "    </tr>\n",
       "    <tr>\n",
       "      <th>3</th>\n",
       "      <td>2022-01-25</td>\n",
       "      <td>muzo-eray-kazim-cuneyt</td>\n",
       "      <td>serhan-izzet-alper-erol</td>\n",
       "      <td>19</td>\n",
       "      <td>23</td>\n",
       "    </tr>\n",
       "    <tr>\n",
       "      <th>4</th>\n",
       "      <td>2022-01-18</td>\n",
       "      <td>izzet-erol-eray-alper</td>\n",
       "      <td>murat-serhan-kazim-muzo</td>\n",
       "      <td>18</td>\n",
       "      <td>8</td>\n",
       "    </tr>\n",
       "    <tr>\n",
       "      <th>5</th>\n",
       "      <td>2022-01-11</td>\n",
       "      <td>eray-erol-muzo-alper</td>\n",
       "      <td>izzet-kazim-murat-serhan</td>\n",
       "      <td>25</td>\n",
       "      <td>0</td>\n",
       "    </tr>\n",
       "    <tr>\n",
       "      <th>6</th>\n",
       "      <td>2021-12-28</td>\n",
       "      <td>murat-cuneyt-muzo-kazim</td>\n",
       "      <td>izzet-serhan-erol-eray</td>\n",
       "      <td>12</td>\n",
       "      <td>10</td>\n",
       "    </tr>\n",
       "    <tr>\n",
       "      <th>7</th>\n",
       "      <td>2021-12-28</td>\n",
       "      <td>alper-muzo-serhan-eray</td>\n",
       "      <td>izzet-erol-kazim-cuneyt</td>\n",
       "      <td>3</td>\n",
       "      <td>11</td>\n",
       "    </tr>\n",
       "    <tr>\n",
       "      <th>8</th>\n",
       "      <td>2021-12-21</td>\n",
       "      <td>alper-murat-kazim-izzet</td>\n",
       "      <td>muzo-cuneyt-serhan-erol</td>\n",
       "      <td>14</td>\n",
       "      <td>24</td>\n",
       "    </tr>\n",
       "    <tr>\n",
       "      <th>9</th>\n",
       "      <td>2021-12-14</td>\n",
       "      <td>eray-kazim-muzo-erol</td>\n",
       "      <td>serhan-alper-izzet-murat</td>\n",
       "      <td>1</td>\n",
       "      <td>20</td>\n",
       "    </tr>\n",
       "    <tr>\n",
       "      <th>10</th>\n",
       "      <td>2021-12-14</td>\n",
       "      <td>erol-alper-izzet-eray</td>\n",
       "      <td>kazim-murat-muzo-serhan</td>\n",
       "      <td>25</td>\n",
       "      <td>7</td>\n",
       "    </tr>\n",
       "    <tr>\n",
       "      <th>11</th>\n",
       "      <td>2021-12-07</td>\n",
       "      <td>alper-kazim-cuneyt-serhan</td>\n",
       "      <td>erol-izzet-muzo-eray</td>\n",
       "      <td>11</td>\n",
       "      <td>17</td>\n",
       "    </tr>\n",
       "    <tr>\n",
       "      <th>12</th>\n",
       "      <td>2021-12-07</td>\n",
       "      <td>alper-izzet-cuneyt-muzo</td>\n",
       "      <td>eray-serhan-erol-kazim</td>\n",
       "      <td>18</td>\n",
       "      <td>13</td>\n",
       "    </tr>\n",
       "    <tr>\n",
       "      <th>13</th>\n",
       "      <td>2021-12-07</td>\n",
       "      <td>alper-erol-izzet-muzo</td>\n",
       "      <td>cuneyt-eray-serhan-kazim</td>\n",
       "      <td>10</td>\n",
       "      <td>17</td>\n",
       "    </tr>\n",
       "    <tr>\n",
       "      <th>14</th>\n",
       "      <td>2021-11-30</td>\n",
       "      <td>erol-eray-kazim-cuneyt</td>\n",
       "      <td>alper-serhan-muzo-murat</td>\n",
       "      <td>8</td>\n",
       "      <td>2</td>\n",
       "    </tr>\n",
       "    <tr>\n",
       "      <th>15</th>\n",
       "      <td>2021-11-30</td>\n",
       "      <td>kazim-murat-alper-eray</td>\n",
       "      <td>erol-cuneyt-izzet-serhan</td>\n",
       "      <td>5</td>\n",
       "      <td>17</td>\n",
       "    </tr>\n",
       "    <tr>\n",
       "      <th>16</th>\n",
       "      <td>2021-11-30</td>\n",
       "      <td>kazim-izzet-murat-erol</td>\n",
       "      <td>alper-cuneyt-muzo-eray</td>\n",
       "      <td>18</td>\n",
       "      <td>9</td>\n",
       "    </tr>\n",
       "    <tr>\n",
       "      <th>17</th>\n",
       "      <td>2021-11-23</td>\n",
       "      <td>erol-kazim-izzet-cuneyt</td>\n",
       "      <td>eray-murat-serhan-muzo</td>\n",
       "      <td>23</td>\n",
       "      <td>16</td>\n",
       "    </tr>\n",
       "    <tr>\n",
       "      <th>18</th>\n",
       "      <td>2021-11-23</td>\n",
       "      <td>cuneyt-serhan-kazim-eray</td>\n",
       "      <td>muzo-erol-izzet-murat</td>\n",
       "      <td>23</td>\n",
       "      <td>18</td>\n",
       "    </tr>\n",
       "    <tr>\n",
       "      <th>19</th>\n",
       "      <td>2021-11-16</td>\n",
       "      <td>murat-alper-muzo-cuneyt</td>\n",
       "      <td>serhan-erol-eray-izzet</td>\n",
       "      <td>2</td>\n",
       "      <td>26</td>\n",
       "    </tr>\n",
       "    <tr>\n",
       "      <th>20</th>\n",
       "      <td>2021-11-16</td>\n",
       "      <td>erol-alper-cuneyt-eray</td>\n",
       "      <td>serhan-izzet-murat-muzo</td>\n",
       "      <td>8</td>\n",
       "      <td>14</td>\n",
       "    </tr>\n",
       "    <tr>\n",
       "      <th>21</th>\n",
       "      <td>2021-11-09</td>\n",
       "      <td>erol-eray-murat-izzet</td>\n",
       "      <td>alper-muzo-kazim-serhan</td>\n",
       "      <td>14</td>\n",
       "      <td>9</td>\n",
       "    </tr>\n",
       "    <tr>\n",
       "      <th>22</th>\n",
       "      <td>2021-11-09</td>\n",
       "      <td>cuneyt-alper-serhan-eray</td>\n",
       "      <td>muzo-kazim-izzet-erol</td>\n",
       "      <td>20</td>\n",
       "      <td>17</td>\n",
       "    </tr>\n",
       "    <tr>\n",
       "      <th>23</th>\n",
       "      <td>2021-11-02</td>\n",
       "      <td>serhan-erol-izzet-muzo</td>\n",
       "      <td>cuneyt-murat-alper-eray</td>\n",
       "      <td>30</td>\n",
       "      <td>24</td>\n",
       "    </tr>\n",
       "    <tr>\n",
       "      <th>24</th>\n",
       "      <td>2021-11-02</td>\n",
       "      <td>cuneyt-erol-izzet-eray</td>\n",
       "      <td>muzo-murat-serhan-alper</td>\n",
       "      <td>8</td>\n",
       "      <td>14</td>\n",
       "    </tr>\n",
       "    <tr>\n",
       "      <th>25</th>\n",
       "      <td>2021-10-26</td>\n",
       "      <td>cuneyt-izzet-serhan-muzo</td>\n",
       "      <td>alper-kazim-eray-murat</td>\n",
       "      <td>15</td>\n",
       "      <td>15</td>\n",
       "    </tr>\n",
       "    <tr>\n",
       "      <th>26</th>\n",
       "      <td>2021-10-26</td>\n",
       "      <td>muzo-eray-murat-serhan</td>\n",
       "      <td>cuneyt-kazim-alper-izzet</td>\n",
       "      <td>15</td>\n",
       "      <td>32</td>\n",
       "    </tr>\n",
       "  </tbody>\n",
       "</table>\n",
       "</div>"
      ],
      "text/plain": [
       "         date                      team1                     team2  score1  \\\n",
       "0  2022-02-01    murat-eray-cuneyt-izzet    serhan-muzo-erol-alper      12   \n",
       "1  2022-02-01      eray-muzo-alper-murat  erol-izzet-serhan-cuneyt       9   \n",
       "2  2022-01-25    eray-serhan-cuneyt-muzo    izzet-erol-kazim-alper      15   \n",
       "3  2022-01-25     muzo-eray-kazim-cuneyt   serhan-izzet-alper-erol      19   \n",
       "4  2022-01-18      izzet-erol-eray-alper   murat-serhan-kazim-muzo      18   \n",
       "5  2022-01-11       eray-erol-muzo-alper  izzet-kazim-murat-serhan      25   \n",
       "6  2021-12-28    murat-cuneyt-muzo-kazim    izzet-serhan-erol-eray      12   \n",
       "7  2021-12-28     alper-muzo-serhan-eray   izzet-erol-kazim-cuneyt       3   \n",
       "8  2021-12-21    alper-murat-kazim-izzet   muzo-cuneyt-serhan-erol      14   \n",
       "9  2021-12-14       eray-kazim-muzo-erol  serhan-alper-izzet-murat       1   \n",
       "10 2021-12-14      erol-alper-izzet-eray   kazim-murat-muzo-serhan      25   \n",
       "11 2021-12-07  alper-kazim-cuneyt-serhan      erol-izzet-muzo-eray      11   \n",
       "12 2021-12-07    alper-izzet-cuneyt-muzo    eray-serhan-erol-kazim      18   \n",
       "13 2021-12-07      alper-erol-izzet-muzo  cuneyt-eray-serhan-kazim      10   \n",
       "14 2021-11-30     erol-eray-kazim-cuneyt   alper-serhan-muzo-murat       8   \n",
       "15 2021-11-30     kazim-murat-alper-eray  erol-cuneyt-izzet-serhan       5   \n",
       "16 2021-11-30     kazim-izzet-murat-erol    alper-cuneyt-muzo-eray      18   \n",
       "17 2021-11-23    erol-kazim-izzet-cuneyt    eray-murat-serhan-muzo      23   \n",
       "18 2021-11-23   cuneyt-serhan-kazim-eray     muzo-erol-izzet-murat      23   \n",
       "19 2021-11-16    murat-alper-muzo-cuneyt    serhan-erol-eray-izzet       2   \n",
       "20 2021-11-16     erol-alper-cuneyt-eray   serhan-izzet-murat-muzo       8   \n",
       "21 2021-11-09      erol-eray-murat-izzet   alper-muzo-kazim-serhan      14   \n",
       "22 2021-11-09   cuneyt-alper-serhan-eray     muzo-kazim-izzet-erol      20   \n",
       "23 2021-11-02     serhan-erol-izzet-muzo   cuneyt-murat-alper-eray      30   \n",
       "24 2021-11-02     cuneyt-erol-izzet-eray   muzo-murat-serhan-alper       8   \n",
       "25 2021-10-26   cuneyt-izzet-serhan-muzo    alper-kazim-eray-murat      15   \n",
       "26 2021-10-26     muzo-eray-murat-serhan  cuneyt-kazim-alper-izzet      15   \n",
       "\n",
       "    score2  \n",
       "0       38  \n",
       "1        5  \n",
       "2       14  \n",
       "3       23  \n",
       "4        8  \n",
       "5        0  \n",
       "6       10  \n",
       "7       11  \n",
       "8       24  \n",
       "9       20  \n",
       "10       7  \n",
       "11      17  \n",
       "12      13  \n",
       "13      17  \n",
       "14       2  \n",
       "15      17  \n",
       "16       9  \n",
       "17      16  \n",
       "18      18  \n",
       "19      26  \n",
       "20      14  \n",
       "21       9  \n",
       "22      17  \n",
       "23      24  \n",
       "24      14  \n",
       "25      15  \n",
       "26      32  "
      ]
     },
     "execution_count": 3,
     "metadata": {},
     "output_type": "execute_result"
    }
   ],
   "source": [
    "raw_scores"
   ]
  },
  {
   "cell_type": "code",
   "execution_count": 4,
   "id": "ce176925-8da9-4560-9291-1d99356a2be8",
   "metadata": {},
   "outputs": [
    {
     "data": {
      "text/plain": [
       "date      datetime64[ns]\n",
       "team1             object\n",
       "team2             object\n",
       "score1             int64\n",
       "score2             int64\n",
       "dtype: object"
      ]
     },
     "execution_count": 4,
     "metadata": {},
     "output_type": "execute_result"
    }
   ],
   "source": [
    "raw_scores.dtypes"
   ]
  },
  {
   "cell_type": "code",
   "execution_count": 5,
   "id": "26a182aa-28c5-4993-aeb8-59709bb7f397",
   "metadata": {},
   "outputs": [],
   "source": [
    "scores = pd.DataFrame()\n",
    "for i in range(len(raw_scores)):\n",
    "    team1_members = list(raw_scores.iloc[i].team1.split('-'))\n",
    "    team2_members = list(raw_scores.iloc[i].team2.split('-'))\n",
    "\n",
    "    # team1 and team2 are the same length\n",
    "    for j in range(len(team1_members)):\n",
    "        # a draw is a win for both sides\n",
    "        team1_series = pd.Series([raw_scores.iloc[i].date, \n",
    "                                  team1_members[j],\n",
    "                                  raw_scores.iloc[i].score1, \n",
    "                                  'W' if raw_scores.iloc[i].score1 >= raw_scores.iloc[i].score2 else 'L'], \n",
    "                                 name='team1')\n",
    "        team2_series = pd.Series([raw_scores.iloc[i].date, \n",
    "                                  team2_members[j], \n",
    "                                  raw_scores.iloc[i].score2, \n",
    "                                  'W' if raw_scores.iloc[i].score2 >= raw_scores.iloc[i].score1 else 'L'], \n",
    "                                 name='team2')\n",
    "        scores = scores.append([team1_series,team2_series], ignore_index=True)\n",
    "\n",
    "columns = ['date', 'player', 'score', 'result']\n",
    "scores.columns = columns\n",
    "scores.set_index('date', inplace=True)"
   ]
  },
  {
   "cell_type": "markdown",
   "id": "6558e009-c6da-49ff-aacc-4e1f206ea791",
   "metadata": {},
   "source": [
    "Graph the win/loss streaks for each player"
   ]
  },
  {
   "cell_type": "code",
   "execution_count": 6,
   "id": "d983d5c3-ff94-40c8-a64f-45db87f28b57",
   "metadata": {},
   "outputs": [],
   "source": [
    "import matplotlib.pyplot as plt\n",
    "%matplotlib inline\n",
    "#%config InlineBackend.figure_format='retina'"
   ]
  },
  {
   "cell_type": "code",
   "execution_count": 7,
   "id": "e25c94ba-c26c-45b4-8578-26135aa517ef",
   "metadata": {},
   "outputs": [],
   "source": [
    "scores.loc[scores['result'] == \"W\", \"wins\"] = 1\n",
    "scores.loc[scores['result'] == \"L\", \"losses\"] = -1"
   ]
  },
  {
   "cell_type": "code",
   "execution_count": 8,
   "id": "6cff684f-6c95-423c-88a8-ca1867f37567",
   "metadata": {},
   "outputs": [],
   "source": [
    "def plot_win_lose_streaks(player):\n",
    "    fig, ax = plt.subplots(figsize=(10,1))\n",
    "    # separate wins and losses for so we can show them in different colors\n",
    "    scores[scores['player']==player]['wins'].plot.bar(ax=ax, color='green', width=1)\n",
    "    scores[scores['player']==player]['losses'].plot.bar(ax=ax, color='red', width=1)\n",
    "\n",
    "    # add a horizontal line at y=0\n",
    "    plt.axhline(y=0, color='black', linewidth=3)\n",
    "    \n",
    "    plt.title(player, loc='left')\n",
    "\n",
    "    ax.tick_params(bottom=False, labelbottom=False)\n",
    "    plt.gca().invert_xaxis()\n",
    "\n",
    "    plt.show()"
   ]
  },
  {
   "cell_type": "code",
   "execution_count": 9,
   "id": "d67ca0f8-79e6-4a76-9734-0220be5c3649",
   "metadata": {},
   "outputs": [
    {
     "data": {
      "image/png": "[encoded data removed]",
      "text/plain": [
       "<Figure size 720x72 with 1 Axes>"
      ]
     },
     "metadata": {
      "needs_background": "light"
     },
     "output_type": "display_data"
    },
    {
     "data": {
      "image/png": "[encoded data removed]",
      "text/plain": [
       "<Figure size 720x72 with 1 Axes>"
      ]
     },
     "metadata": {
      "needs_background": "light"
     },
     "output_type": "display_data"
    },
    {
     "data": {
      "image/png": "[encoded data removed]",
      "text/plain": [
       "<Figure size 720x72 with 1 Axes>"
      ]
     },
     "metadata": {
      "needs_background": "light"
     },
     "output_type": "display_data"
    },
    {
     "data": {
      "image/png": "[encoded data removed]",
      "text/plain": [
       "<Figure size 720x72 with 1 Axes>"
      ]
     },
     "metadata": {
      "needs_background": "light"
     },
     "output_type": "display_data"
    },
    {
     "data": {
      "image/png": "[encoded data removed]",
      "text/plain": [
       "<Figure size 720x72 with 1 Axes>"
      ]
     },
     "metadata": {
      "needs_background": "light"
     },
     "output_type": "display_data"
    },
    {
     "data": {
      "image/png": "[encoded data removed]",
      "text/plain": [
       "<Figure size 720x72 with 1 Axes>"
      ]
     },
     "metadata": {
      "needs_background": "light"
     },
     "output_type": "display_data"
    },
    {
     "data": {
      "image/png": "[encoded data removed]",
      "text/plain": [
       "<Figure size 720x72 with 1 Axes>"
      ]
     },
     "metadata": {
      "needs_background": "light"
     },
     "output_type": "display_data"
    },
    {
     "data": {
      "image/png": "[encoded data removed]",
      "text/plain": [
       "<Figure size 720x72 with 1 Axes>"
      ]
     },
     "metadata": {
      "needs_background": "light"
     },
     "output_type": "display_data"
    },
    {
     "data": {
      "image/png": "[encoded data removed]",
      "text/plain": [
       "<Figure size 720x72 with 1 Axes>"
      ]
     },
     "metadata": {
      "needs_background": "light"
     },
     "output_type": "display_data"
    }
   ],
   "source": [
    "players = scores.drop_duplicates('player')['player']\n",
    "for player in players:\n",
    "    plot_win_lose_streaks(player)"
   ]
  },
  {
   "cell_type": "markdown",
   "id": "355a645f-60db-4b7c-8e05-e07df4464f4d",
   "metadata": {},
   "source": [
    "## Rankings\n",
    "\n",
    "Show and rank via win percentage for each player. Alternatives would be\n",
    " - total number of wins\n",
    " - total IMPs scored\n",
    " \n",
    "but go with win percentages for now"
   ]
  },
  {
   "cell_type": "code",
   "execution_count": 10,
   "id": "01810a07-2e64-43ca-89db-ad26a0852d8c",
   "metadata": {},
   "outputs": [],
   "source": [
    "rankings = scores.groupby('player').count().drop(['score'], axis=1)\n",
    "rankings['pct'] = rankings['wins'] / rankings['result']\n",
    "rankings = rankings.sort_values(by='pct', ascending=False)"
   ]
  },
  {
   "cell_type": "code",
   "execution_count": 11,
   "id": "e59a879d-5e34-4f97-b389-14eb67d7306b",
   "metadata": {},
   "outputs": [
    {
     "data": {
      "image/png": "[encoded data removed]",
      "text/plain": [
       "<Figure size 640x480 with 1 Axes>"
      ]
     },
     "metadata": {},
     "output_type": "display_data"
    }
   ],
   "source": [
    "plt.rcdefaults()\n",
    "fig, ax = plt.subplots()\n",
    "\n",
    "y_pos = np.arange(len(rankings))\n",
    "ax.barh(y_pos, rankings['pct'], edgecolor='blue')\n",
    "ax.set_yticks(y_pos, labels=list(rankings.index))\n",
    "ax.invert_yaxis()  # highest first\n",
    "ax.set_xlabel('Win Percentage')\n",
    "ax.set_title('Rankings')\n",
    "\n",
    "for i in range(len(rankings.index)):\n",
    "    plt.text(rankings['pct'][i], y_pos[i], round(rankings['pct'][i],2), \n",
    "             ha='right', va='center_baseline', fontsize='x-small', color='white')\n",
    "\n",
    "ax.set_xlim((0, 1))\n",
    "plt.show()"
   ]
  },
  {
   "cell_type": "markdown",
   "id": "16cbb3a2-9512-4e5d-ac9c-3d6434aba497",
   "metadata": {},
   "source": [
    "## Confidence Intervals\n",
    "\n",
    "In probability theory and statistics, the binomial distribution with parameters n and p is the discrete probability distribution of the number of successes in a sequence of n independent experiments, each asking a yes–no question, and each with its own Boolean-valued outcome: success (with probability p) or failure (with probability q = 1 − p).\n",
    "\n",
    "Calculate the confidence interval for the win percentages above, i.e. the *correct* win percentage for each player lies somewhere in the interval calculated with a high probability."
   ]
  },
  {
   "cell_type": "code",
   "execution_count": 12,
   "id": "22ff255e-38c2-4f37-9408-331a82081bdc",
   "metadata": {},
   "outputs": [],
   "source": [
    "from scipy.stats import binomtest"
   ]
  },
  {
   "cell_type": "code",
   "execution_count": 13,
   "id": "b6e4e42a-cc08-4019-b088-07ee72ca4f0e",
   "metadata": {},
   "outputs": [],
   "source": [
    "intervals = {}\n",
    "for i in range(len(rankings.index)):\n",
    "    result = binomtest(int(rankings.iloc[i]['wins']), int(rankings.iloc[i]['result']), rankings.iloc[i]['pct'], alternative='two-sided')\n",
    "    intervals[rankings.index[i]] = result.proportion_ci(confidence_level=0.95)"
   ]
  },
  {
   "cell_type": "code",
   "execution_count": 14,
   "id": "b392be2f-ee1c-4d3f-a584-1050b7aeeda6",
   "metadata": {},
   "outputs": [
    {
     "data": {
      "image/png": "[encoded data removed]",
      "text/plain": [
       "<Figure size 640x480 with 1 Axes>"
      ]
     },
     "metadata": {},
     "output_type": "display_data"
    }
   ],
   "source": [
    "fig, ax = plt.subplots()\n",
    "x = list()\n",
    "y = list()\n",
    "error_range = list()\n",
    "\n",
    "# reverse for descending order\n",
    "for i in range(len(intervals.keys())-1,-1, -1):\n",
    "    # player, center, lower_limit, upper_limit\n",
    "    # ('izzet', 0.6818181818181818, 0.451275572426236, 0.8613534784462099)\n",
    "    lines = rankings.index[i], rankings['pct'][rankings.index[i]], intervals[rankings.index[i]][0], intervals[rankings.index[i]][1]\n",
    "    x.append(lines[1])\n",
    "    y.append(lines[0])\n",
    "    error_range.append([lines[1]-lines[2], lines[3]-lines[1]])\n",
    "\n",
    "ax.errorbar(x, y, xerr=np.array(error_range).T, fmt='o', ecolor='green', elinewidth=2, capsize=4)\n",
    "\n",
    "# tidy up the figure\n",
    "ax.set_xlim((0, 1))\n",
    "ax.set_title('win percentage upper and lower bounds')\n",
    "plt.show()"
   ]
  },
  {
   "cell_type": "markdown",
   "id": "7ad13b52-d21d-4bbe-89ca-a283f390bcc1",
   "metadata": {
    "tags": []
   },
   "source": [
    "That makes sense. Cuneyt played less games than Izzet and hence his upper limit for his *true* percentage is higher.\n",
    "\n",
    "However, let's not give too much importance to these confidence intervals as the underlying distribution shifts in time - we are improving our bridge playing skills presumably at different rates.  Still, confidence intervals are a nice reminder that the point win percentages are not the be-all and end-all in rankings, especially since the number of games played (n) is still too few in number."
   ]
  },
  {
   "cell_type": "markdown",
   "id": "37f7dc74-ece6-4d6c-8823-f8f842308f32",
   "metadata": {
    "tags": []
   },
   "source": [
    "## Rankings - Cont\n",
    "\n",
    "Another ranking method is to use points for each game: 3 points for a win, 1 point for a draw and 0 points for a loss."
   ]
  },
  {
   "cell_type": "code",
   "execution_count": 15,
   "id": "5d8a6c61-a9d5-46b2-b6ef-3f736578b974",
   "metadata": {},
   "outputs": [],
   "source": [
    "scores = pd.DataFrame()\n",
    "\n",
    "def calculate_points(a: float, b: float) -> tuple[int, int]:\n",
    "    '''\n",
    "    gets scores for team1 and team2\n",
    "    returns team points:\n",
    "      3 for a win,\n",
    "      1 for a draw\n",
    "      0 for a loss\n",
    "    '''\n",
    "    if a > b:\n",
    "        return 3, 0\n",
    "    elif a == b:\n",
    "        return 1, 1\n",
    "    else:\n",
    "        return 0, 3\n",
    "\n",
    "for i in range(len(raw_scores)):\n",
    "    team1_members = list(raw_scores.iloc[i].team1.split('-'))\n",
    "    team2_members = list(raw_scores.iloc[i].team2.split('-'))\n",
    "\n",
    "    # team1 and team2 are the same length\n",
    "    for j in range(len(team1_members)):\n",
    "        team1_score, team2_score = calculate_points(raw_scores.iloc[i].score1, raw_scores.iloc[i].score2)\n",
    "        team1_series = pd.Series([raw_scores.iloc[i].date, \n",
    "                                  team1_members[j],\n",
    "                                  raw_scores.iloc[i].score1, \n",
    "                                  team1_score],\n",
    "                                 name='team1')\n",
    "        team2_series = pd.Series([raw_scores.iloc[i].date, \n",
    "                                  team2_members[j], \n",
    "                                  raw_scores.iloc[i].score2, \n",
    "                                  team2_score], \n",
    "                                 name='team2')\n",
    "        scores = scores.append([team1_series,team2_series], ignore_index=True)\n",
    "\n",
    "columns = ['date', 'player', 'score', 'points']\n",
    "scores.columns = columns\n",
    "scores.set_index('date', inplace=True)"
   ]
  },
  {
   "cell_type": "markdown",
   "id": "9fb25927-0d5b-4f5a-b6c4-3899fd9dabb2",
   "metadata": {},
   "source": [
    "add up the points earned to form a league table"
   ]
  },
  {
   "cell_type": "code",
   "execution_count": 16,
   "id": "e5988428-928a-49a1-9044-4a3287653e95",
   "metadata": {},
   "outputs": [
    {
     "data": {
      "text/html": [
       "<div>\n",
       "<style scoped>\n",
       "    .dataframe tbody tr th:only-of-type {\n",
       "        vertical-align: middle;\n",
       "    }\n",
       "\n",
       "    .dataframe tbody tr th {\n",
       "        vertical-align: top;\n",
       "    }\n",
       "\n",
       "    .dataframe thead th {\n",
       "        text-align: right;\n",
       "    }\n",
       "</style>\n",
       "<table border=\"1\" class=\"dataframe\">\n",
       "  <thead>\n",
       "    <tr style=\"text-align: right;\">\n",
       "      <th></th>\n",
       "      <th>points_total</th>\n",
       "      <th>games_played</th>\n",
       "    </tr>\n",
       "    <tr>\n",
       "      <th>player</th>\n",
       "      <th></th>\n",
       "      <th></th>\n",
       "    </tr>\n",
       "  </thead>\n",
       "  <tbody>\n",
       "    <tr>\n",
       "      <th>izzet</th>\n",
       "      <td>46</td>\n",
       "      <td>26</td>\n",
       "    </tr>\n",
       "    <tr>\n",
       "      <th>erol</th>\n",
       "      <td>45</td>\n",
       "      <td>25</td>\n",
       "    </tr>\n",
       "    <tr>\n",
       "      <th>serhan</th>\n",
       "      <td>40</td>\n",
       "      <td>26</td>\n",
       "    </tr>\n",
       "    <tr>\n",
       "      <th>cuneyt</th>\n",
       "      <td>37</td>\n",
       "      <td>22</td>\n",
       "    </tr>\n",
       "    <tr>\n",
       "      <th>eray</th>\n",
       "      <td>37</td>\n",
       "      <td>26</td>\n",
       "    </tr>\n",
       "    <tr>\n",
       "      <th>alper</th>\n",
       "      <td>34</td>\n",
       "      <td>24</td>\n",
       "    </tr>\n",
       "    <tr>\n",
       "      <th>muzo</th>\n",
       "      <td>34</td>\n",
       "      <td>26</td>\n",
       "    </tr>\n",
       "    <tr>\n",
       "      <th>kazim</th>\n",
       "      <td>25</td>\n",
       "      <td>21</td>\n",
       "    </tr>\n",
       "    <tr>\n",
       "      <th>murat</th>\n",
       "      <td>22</td>\n",
       "      <td>20</td>\n",
       "    </tr>\n",
       "  </tbody>\n",
       "</table>\n",
       "</div>"
      ],
      "text/plain": [
       "        points_total  games_played\n",
       "player                            \n",
       "izzet             46            26\n",
       "erol              45            25\n",
       "serhan            40            26\n",
       "cuneyt            37            22\n",
       "eray              37            26\n",
       "alper             34            24\n",
       "muzo              34            26\n",
       "kazim             25            21\n",
       "murat             22            20"
      ]
     },
     "execution_count": 16,
     "metadata": {},
     "output_type": "execute_result"
    }
   ],
   "source": [
    "league = pd.DataFrame()\n",
    "league['points_total'] = scores.groupby(by=\"player\")['points'].sum()\n",
    "league['games_played'] = scores.groupby(by=\"player\")['points'].count()\n",
    "#league['points_per_game'] = league['points_total'] / league['games_played']\n",
    "league.sort_values(by=['points_total'], ascending=False, inplace=True)\n",
    "\n",
    "league"
   ]
  },
  {
   "cell_type": "markdown",
   "id": "d5ebf83b-d98b-49fe-a212-9af6c4359520",
   "metadata": {},
   "source": [
    "Great! Izzet is the current champion and Erol has the second place.\n",
    "\n",
    "### With Decay\n",
    "\n",
    "Another ranking option would be behave similar to above (3/1/0 points for win/draw/lose) but decay the points earned and then rank accordingly, i.e. recent games played are more valuable than earlier games - let's call this the Muzo option :)"
   ]
  },
  {
   "cell_type": "code",
   "execution_count": 17,
   "id": "389b0c0f-ccd7-4cfa-8216-ee30eb80e6bc",
   "metadata": {},
   "outputs": [],
   "source": [
    "alpha = 0.2 # lose 20% of your value in 30 days\n",
    "latest = scores.index.max()\n",
    "\n",
    "decayed_scores = pd.DataFrame()\n",
    "for i in range(len(raw_scores)):\n",
    "    team1_members = list(raw_scores.iloc[i].team1.split('-'))\n",
    "    team2_members = list(raw_scores.iloc[i].team2.split('-'))\n",
    "\n",
    "    # team1 and team2 are the same length\n",
    "    for j in range(len(team1_members)):\n",
    "        team1_score, team2_score = calculate_points(raw_scores.iloc[i].score1, raw_scores.iloc[i].score2)\n",
    "        team1_series = pd.Series([raw_scores.iloc[i].date, \n",
    "                                  team1_members[j],\n",
    "                                  raw_scores.iloc[i].score1, \n",
    "                                  team1_score * pow((1-alpha),(latest - raw_scores.iloc[i].date).days/30)],\n",
    "                                 name='team1')\n",
    "        team2_series = pd.Series([raw_scores.iloc[i].date, \n",
    "                                  team2_members[j], \n",
    "                                  raw_scores.iloc[i].score2, \n",
    "                                  team2_score * pow((1-alpha),(latest - raw_scores.iloc[i].date).days/30)], \n",
    "                                 name='team2')\n",
    "        decayed_scores = decayed_scores.append([team1_series,team2_series], ignore_index=True)\n",
    "\n",
    "columns = ['date', 'player', 'score', 'points']\n",
    "decayed_scores.columns = columns\n",
    "decayed_scores.set_index('date', inplace=True)"
   ]
  },
  {
   "cell_type": "code",
   "execution_count": 18,
   "id": "eba25e64-d58b-44c8-895b-774891330061",
   "metadata": {},
   "outputs": [
    {
     "data": {
      "text/html": [
       "<div>\n",
       "<style scoped>\n",
       "    .dataframe tbody tr th:only-of-type {\n",
       "        vertical-align: middle;\n",
       "    }\n",
       "\n",
       "    .dataframe tbody tr th {\n",
       "        vertical-align: top;\n",
       "    }\n",
       "\n",
       "    .dataframe thead th {\n",
       "        text-align: right;\n",
       "    }\n",
       "</style>\n",
       "<table border=\"1\" class=\"dataframe\">\n",
       "  <thead>\n",
       "    <tr style=\"text-align: right;\">\n",
       "      <th></th>\n",
       "      <th>points_total</th>\n",
       "      <th>games_played</th>\n",
       "    </tr>\n",
       "    <tr>\n",
       "      <th>player</th>\n",
       "      <th></th>\n",
       "      <th></th>\n",
       "    </tr>\n",
       "  </thead>\n",
       "  <tbody>\n",
       "    <tr>\n",
       "      <th>erol</th>\n",
       "      <td>31.924327</td>\n",
       "      <td>25</td>\n",
       "    </tr>\n",
       "    <tr>\n",
       "      <th>izzet</th>\n",
       "      <td>29.968781</td>\n",
       "      <td>26</td>\n",
       "    </tr>\n",
       "    <tr>\n",
       "      <th>serhan</th>\n",
       "      <td>27.133984</td>\n",
       "      <td>26</td>\n",
       "    </tr>\n",
       "    <tr>\n",
       "      <th>eray</th>\n",
       "      <td>26.203509</td>\n",
       "      <td>26</td>\n",
       "    </tr>\n",
       "    <tr>\n",
       "      <th>alper</th>\n",
       "      <td>25.323063</td>\n",
       "      <td>24</td>\n",
       "    </tr>\n",
       "    <tr>\n",
       "      <th>muzo</th>\n",
       "      <td>25.100971</td>\n",
       "      <td>26</td>\n",
       "    </tr>\n",
       "    <tr>\n",
       "      <th>cuneyt</th>\n",
       "      <td>24.479384</td>\n",
       "      <td>22</td>\n",
       "    </tr>\n",
       "    <tr>\n",
       "      <th>kazim</th>\n",
       "      <td>15.852438</td>\n",
       "      <td>21</td>\n",
       "    </tr>\n",
       "    <tr>\n",
       "      <th>murat</th>\n",
       "      <td>14.578796</td>\n",
       "      <td>20</td>\n",
       "    </tr>\n",
       "  </tbody>\n",
       "</table>\n",
       "</div>"
      ],
      "text/plain": [
       "        points_total  games_played\n",
       "player                            \n",
       "erol       31.924327            25\n",
       "izzet      29.968781            26\n",
       "serhan     27.133984            26\n",
       "eray       26.203509            26\n",
       "alper      25.323063            24\n",
       "muzo       25.100971            26\n",
       "cuneyt     24.479384            22\n",
       "kazim      15.852438            21\n",
       "murat      14.578796            20"
      ]
     },
     "execution_count": 18,
     "metadata": {},
     "output_type": "execute_result"
    }
   ],
   "source": [
    "decayed_league = pd.DataFrame()\n",
    "decayed_league['points_total'] = decayed_scores.groupby(by=\"player\")['points'].sum()\n",
    "decayed_league['games_played'] = decayed_scores.groupby(by=\"player\")['points'].count()\n",
    "decayed_league.sort_values(by=['points_total'], ascending=False, inplace=True)\n",
    "\n",
    "decayed_league"
   ]
  },
  {
   "cell_type": "markdown",
   "id": "3a03fb74-f3a0-488e-b267-dc992942999a",
   "metadata": {},
   "source": [
    "so the above is the rankings with alpha = 0.2, i.e. we lose 20% of the points earned every 30 days.\n",
    "\n",
    "Choosing alpha as 0.2 is reasonable but arbitrary, so calculate the rankings for different alpha values"
   ]
  },
  {
   "cell_type": "code",
   "execution_count": 19,
   "id": "06c640e8-380a-4863-b427-a292b45b665d",
   "metadata": {},
   "outputs": [],
   "source": [
    "def calculate_decayed_rankings(raw_scores, alpha, latest):\n",
    "    decayed_scores = pd.DataFrame()\n",
    "    for i in range(len(raw_scores)):\n",
    "        team1_members = list(raw_scores.iloc[i].team1.split('-'))\n",
    "        team2_members = list(raw_scores.iloc[i].team2.split('-'))\n",
    "\n",
    "        # team1 and team2 are the same length\n",
    "        for j in range(len(team1_members)):\n",
    "            team1_score, team2_score = calculate_points(raw_scores.iloc[i].score1, raw_scores.iloc[i].score2)\n",
    "            team1_series = pd.Series([raw_scores.iloc[i].date, \n",
    "                                      team1_members[j],\n",
    "                                      raw_scores.iloc[i].score1, \n",
    "                                      team1_score * pow((1-alpha),(latest - raw_scores.iloc[i].date).days/30)],\n",
    "                                     name='team1')\n",
    "            team2_series = pd.Series([raw_scores.iloc[i].date, \n",
    "                                      team2_members[j], \n",
    "                                      raw_scores.iloc[i].score2, \n",
    "                                      team2_score * pow((1-alpha),(latest - raw_scores.iloc[i].date).days/30)], \n",
    "                                     name='team2')\n",
    "            decayed_scores = decayed_scores.append([team1_series,team2_series], ignore_index=True)\n",
    "\n",
    "    columns = ['date', 'player', 'score', 'points']\n",
    "    decayed_scores.columns = columns\n",
    "    decayed_scores.set_index('date', inplace=True)\n",
    "    \n",
    "    decayed_league = pd.DataFrame()\n",
    "    decayed_league['points_total'] = decayed_scores.groupby(by=\"player\")['points'].sum()\n",
    "    decayed_league['games_played'] = decayed_scores.groupby(by=\"player\")['points'].count()\n",
    "    decayed_league.sort_values(by=['points_total'], ascending=False, inplace=True)\n",
    "\n",
    "    return decayed_league['points_total'].rank(ascending=False, method='average')"
   ]
  },
  {
   "cell_type": "code",
   "execution_count": 20,
   "id": "4ecb88c9-9d50-45a4-86ff-e449fb4f5b47",
   "metadata": {},
   "outputs": [
    {
     "data": {
      "text/html": [
       "<div>\n",
       "<style scoped>\n",
       "    .dataframe tbody tr th:only-of-type {\n",
       "        vertical-align: middle;\n",
       "    }\n",
       "\n",
       "    .dataframe tbody tr th {\n",
       "        vertical-align: top;\n",
       "    }\n",
       "\n",
       "    .dataframe thead th {\n",
       "        text-align: right;\n",
       "    }\n",
       "</style>\n",
       "<table border=\"1\" class=\"dataframe\">\n",
       "  <thead>\n",
       "    <tr style=\"text-align: right;\">\n",
       "      <th></th>\n",
       "      <th>0.1</th>\n",
       "      <th>0.2</th>\n",
       "      <th>0.3</th>\n",
       "      <th>0.4</th>\n",
       "      <th>0.5</th>\n",
       "      <th>0.6</th>\n",
       "      <th>0.7</th>\n",
       "      <th>0.8</th>\n",
       "      <th>0.9</th>\n",
       "    </tr>\n",
       "    <tr>\n",
       "      <th>player</th>\n",
       "      <th></th>\n",
       "      <th></th>\n",
       "      <th></th>\n",
       "      <th></th>\n",
       "      <th></th>\n",
       "      <th></th>\n",
       "      <th></th>\n",
       "      <th></th>\n",
       "      <th></th>\n",
       "    </tr>\n",
       "  </thead>\n",
       "  <tbody>\n",
       "    <tr>\n",
       "      <th>erol</th>\n",
       "      <td>1.0</td>\n",
       "      <td>1.0</td>\n",
       "      <td>1.0</td>\n",
       "      <td>1.0</td>\n",
       "      <td>1.0</td>\n",
       "      <td>2.0</td>\n",
       "      <td>3.0</td>\n",
       "      <td>3.0</td>\n",
       "      <td>3.0</td>\n",
       "    </tr>\n",
       "    <tr>\n",
       "      <th>izzet</th>\n",
       "      <td>2.0</td>\n",
       "      <td>2.0</td>\n",
       "      <td>2.0</td>\n",
       "      <td>4.0</td>\n",
       "      <td>6.0</td>\n",
       "      <td>6.0</td>\n",
       "      <td>6.0</td>\n",
       "      <td>6.0</td>\n",
       "      <td>7.0</td>\n",
       "    </tr>\n",
       "    <tr>\n",
       "      <th>serhan</th>\n",
       "      <td>3.0</td>\n",
       "      <td>3.0</td>\n",
       "      <td>3.0</td>\n",
       "      <td>6.0</td>\n",
       "      <td>5.0</td>\n",
       "      <td>5.0</td>\n",
       "      <td>5.0</td>\n",
       "      <td>5.0</td>\n",
       "      <td>4.0</td>\n",
       "    </tr>\n",
       "    <tr>\n",
       "      <th>eray</th>\n",
       "      <td>4.0</td>\n",
       "      <td>4.0</td>\n",
       "      <td>5.0</td>\n",
       "      <td>5.0</td>\n",
       "      <td>4.0</td>\n",
       "      <td>4.0</td>\n",
       "      <td>4.0</td>\n",
       "      <td>4.0</td>\n",
       "      <td>5.0</td>\n",
       "    </tr>\n",
       "    <tr>\n",
       "      <th>cuneyt</th>\n",
       "      <td>5.0</td>\n",
       "      <td>7.0</td>\n",
       "      <td>7.0</td>\n",
       "      <td>7.0</td>\n",
       "      <td>7.0</td>\n",
       "      <td>7.0</td>\n",
       "      <td>7.0</td>\n",
       "      <td>7.0</td>\n",
       "      <td>8.0</td>\n",
       "    </tr>\n",
       "    <tr>\n",
       "      <th>alper</th>\n",
       "      <td>6.0</td>\n",
       "      <td>5.0</td>\n",
       "      <td>4.0</td>\n",
       "      <td>2.0</td>\n",
       "      <td>2.0</td>\n",
       "      <td>1.0</td>\n",
       "      <td>1.0</td>\n",
       "      <td>1.0</td>\n",
       "      <td>1.0</td>\n",
       "    </tr>\n",
       "    <tr>\n",
       "      <th>muzo</th>\n",
       "      <td>7.0</td>\n",
       "      <td>6.0</td>\n",
       "      <td>6.0</td>\n",
       "      <td>3.0</td>\n",
       "      <td>3.0</td>\n",
       "      <td>3.0</td>\n",
       "      <td>2.0</td>\n",
       "      <td>2.0</td>\n",
       "      <td>2.0</td>\n",
       "    </tr>\n",
       "    <tr>\n",
       "      <th>kazim</th>\n",
       "      <td>8.0</td>\n",
       "      <td>8.0</td>\n",
       "      <td>8.0</td>\n",
       "      <td>9.0</td>\n",
       "      <td>9.0</td>\n",
       "      <td>9.0</td>\n",
       "      <td>9.0</td>\n",
       "      <td>9.0</td>\n",
       "      <td>9.0</td>\n",
       "    </tr>\n",
       "    <tr>\n",
       "      <th>murat</th>\n",
       "      <td>9.0</td>\n",
       "      <td>9.0</td>\n",
       "      <td>9.0</td>\n",
       "      <td>8.0</td>\n",
       "      <td>8.0</td>\n",
       "      <td>8.0</td>\n",
       "      <td>8.0</td>\n",
       "      <td>8.0</td>\n",
       "      <td>6.0</td>\n",
       "    </tr>\n",
       "  </tbody>\n",
       "</table>\n",
       "</div>"
      ],
      "text/plain": [
       "        0.1  0.2  0.3  0.4  0.5  0.6  0.7  0.8  0.9\n",
       "player                                             \n",
       "erol    1.0  1.0  1.0  1.0  1.0  2.0  3.0  3.0  3.0\n",
       "izzet   2.0  2.0  2.0  4.0  6.0  6.0  6.0  6.0  7.0\n",
       "serhan  3.0  3.0  3.0  6.0  5.0  5.0  5.0  5.0  4.0\n",
       "eray    4.0  4.0  5.0  5.0  4.0  4.0  4.0  4.0  5.0\n",
       "cuneyt  5.0  7.0  7.0  7.0  7.0  7.0  7.0  7.0  8.0\n",
       "alper   6.0  5.0  4.0  2.0  2.0  1.0  1.0  1.0  1.0\n",
       "muzo    7.0  6.0  6.0  3.0  3.0  3.0  2.0  2.0  2.0\n",
       "kazim   8.0  8.0  8.0  9.0  9.0  9.0  9.0  9.0  9.0\n",
       "murat   9.0  9.0  9.0  8.0  8.0  8.0  8.0  8.0  6.0"
      ]
     },
     "execution_count": 20,
     "metadata": {},
     "output_type": "execute_result"
    }
   ],
   "source": [
    "alphas = np.arange(0.1, 1, 0.1)\n",
    "league_with_alpha = pd.DataFrame()\n",
    "\n",
    "for alpha in alphas:\n",
    "    league_with_alpha[alpha] = calculate_decayed_rankings(raw_scores, alpha, latest).to_frame()\n",
    "\n",
    "league_with_alpha"
   ]
  },
  {
   "cell_type": "markdown",
   "id": "a0dfcd58-210c-4643-8a51-012e3b20f3ed",
   "metadata": {},
   "source": [
    "and perhaps to aid the understanding of how alpha values affect rankings, a visual:"
   ]
  },
  {
   "cell_type": "code",
   "execution_count": 21,
   "id": "bc7ddf7e-fc0f-40c5-be7f-179f5993e5f1",
   "metadata": {},
   "outputs": [
    {
     "data": {
      "image/png": "[encoded data removed]",
      "text/plain": [
       "<Figure size 640x480 with 1 Axes>"
      ]
     },
     "metadata": {},
     "output_type": "display_data"
    }
   ],
   "source": [
    "ax = league_with_alpha.transpose().plot(xlabel='alpha', ylabel='rank', title='rankings w/ alpha decay')\n",
    "plt.gca().invert_yaxis()\n",
    "plt.legend(loc='center')\n",
    "plt.show()"
   ]
  },
  {
   "cell_type": "markdown",
   "id": "dea5fb9b-ee38-458f-985c-c70884bd2db6",
   "metadata": {},
   "source": [
    "This is a nice graph in that it gives a sense of who has done well recently and historically. Also, please keep in mind that this is a ranking and the standings are with respect to other players and not with respect to an objective metric."
   ]
  },
  {
   "cell_type": "code",
   "execution_count": null,
   "id": "fae9ceb3-c5a8-4882-883a-4fbcf43d4857",
   "metadata": {},
   "outputs": [],
   "source": []
  }
 ],
 "metadata": {
  "kernelspec": {
   "display_name": "Python 3 (ipykernel)",
   "language": "python",
   "name": "python3"
  },
  "language_info": {
   "codemirror_mode": {
    "name": "ipython",
    "version": 3
   },
   "file_extension": ".py",
   "mimetype": "text/x-python",
   "name": "python",
   "nbconvert_exporter": "python",
   "pygments_lexer": "ipython3",
   "version": "3.9.10"
  }
 },
 "nbformat": 4,
 "nbformat_minor": 5
}
